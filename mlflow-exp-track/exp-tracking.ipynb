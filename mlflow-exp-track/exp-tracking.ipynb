{
 "cells": [
  {
   "cell_type": "code",
   "execution_count": 1,
   "id": "0442b349",
   "metadata": {},
   "outputs": [
    {
     "name": "stderr",
     "output_type": "stream",
     "text": [
      "2025/08/22 00:40:32 INFO mlflow.tracking.fluent: Experiment with name 'Iris_Classification_Comparison' does not exist. Creating a new experiment.\n"
     ]
    },
    {
     "name": "stdout",
     "output_type": "stream",
     "text": [
      "LogisticRegression → Run ID: 99dba003306c43de8474b447e76f1b00 | \n",
      "                Accuracy: 1.0000 | F1 (macro): 1.0000 | \n",
      "                Log Loss: 0.1111\n",
      "RandomForest → Run ID: 2a18e340d468447db19dd70ab36fa1cc | \n",
      "                Accuracy: 1.0000 | F1 (macro): 1.0000 | \n",
      "                Log Loss: 0.0225\n",
      "SVC → Run ID: aa6b09040d8d4518905d4d8257af955e | \n",
      "                Accuracy: 1.0000 | F1 (macro): 1.0000 | \n",
      "                Log Loss: 0.0782\n"
     ]
    }
   ],
   "source": [
    "import mlflow\n",
    "import mlflow.sklearn\n",
    "from sklearn.datasets import load_iris\n",
    "from sklearn.model_selection import train_test_split\n",
    "from sklearn.metrics import accuracy_score, f1_score, log_loss\n",
    "from sklearn.linear_model import LogisticRegression\n",
    "from sklearn.ensemble import RandomForestClassifier\n",
    "from sklearn.svm import SVC\n",
    "\n",
    "# Load dataset\n",
    "X, y = load_iris(return_X_y=True)\n",
    "X_train, X_test, y_train, y_test = train_test_split(\n",
    "    X, y, test_size=0.2, random_state=42)\n",
    "\n",
    "# Set experiment\n",
    "mlflow.set_experiment(\"Iris_Classification_Comparison\")\n",
    "\n",
    "# Define models\n",
    "models = {\n",
    "    \"LogisticRegression\": LogisticRegression(max_iter=100),\n",
    "    \"RandomForest\": RandomForestClassifier(n_estimators=100),\n",
    "    \"SVC\": SVC(probability=True)\n",
    "}\n",
    "\n",
    "for name, model in models.items():\n",
    "    with mlflow.start_run(run_name=name) as run:\n",
    "        # Train model\n",
    "        model.fit(X_train, y_train)\n",
    "\n",
    "        # Predictions\n",
    "        preds = model.predict(X_test)\n",
    "        proba = model.predict_proba(X_test)\n",
    "\n",
    "        # Metrics\n",
    "        acc = accuracy_score(y_test, preds)\n",
    "        f1 = f1_score(y_test, preds, average='macro')\n",
    "        loss = log_loss(y_test, proba)\n",
    "\n",
    "        # Logging\n",
    "        mlflow.log_param(\"model_type\", name)\n",
    "        mlflow.log_metric(\"accuracy\", acc)\n",
    "        mlflow.log_metric(\"f1_score_macro\", f1)\n",
    "        mlflow.log_metric(\"log_loss\", loss)\n",
    "\n",
    "        mlflow.sklearn.log_model(model, name=\"model\",\n",
    "                                 input_example=X_test[:5])\n",
    "\n",
    "        print(f\"\"\"{name} → Run ID: {run.info.run_id} | \n",
    "                Accuracy: {acc:.4f} | F1 (macro): {f1:.4f} | \n",
    "                Log Loss: {loss:.4f}\"\"\")"
   ]
  },
  {
   "cell_type": "code",
   "execution_count": 2,
   "id": "94cae448",
   "metadata": {},
   "outputs": [
    {
     "name": "stderr",
     "output_type": "stream",
     "text": [
      "Successfully registered model 'IrisBestModel'.\n",
      "2025/08/22 00:42:42 WARNING mlflow.tracking._model_registry.fluent: Run with id 2a18e340d468447db19dd70ab36fa1cc has no artifacts at artifact path 'model', registering model based on models:/m-571c6bf3bf15469992d02d04251da2c9 instead\n"
     ]
    },
    {
     "name": "stdout",
     "output_type": "stream",
     "text": [
      "\n",
      "Best Model Registered Run ID: 2a18e340d468447db19dd70ab36fa1cc\n"
     ]
    },
    {
     "name": "stderr",
     "output_type": "stream",
     "text": [
      "Created version '1' of model 'IrisBestModel'.\n"
     ]
    }
   ],
   "source": [
    "# (replace with run id of best model from prev. cell output)\n",
    "best_run_id = \"2a18e340d468447db19dd70ab36fa1cc\"\n",
    "model_uri = f\"runs:/{best_run_id}/model\"\n",
    "mlflow.register_model(model_uri=model_uri, name=\"IrisBestModel\")\n",
    "\n",
    "print(f\"\\nBest Model Registered Run ID: {best_run_id}\")"
   ]
  },
  {
   "cell_type": "code",
   "execution_count": 3,
   "id": "c19aee02",
   "metadata": {},
   "outputs": [
    {
     "name": "stdout",
     "output_type": "stream",
     "text": [
      "Prediction: setosa\n"
     ]
    }
   ],
   "source": [
    "import mlflow\n",
    "from sklearn.datasets import load_iris\n",
    "\n",
    "# Load class names\n",
    "iris = load_iris()\n",
    "class_names = iris.target_names\n",
    "\n",
    "# Load model from registry\n",
    "model = mlflow.sklearn.load_model(\"models:/IrisBestModel/latest\")\n",
    "# or, mlflow.sklearn.load_model(\"models:/SecondBestIris/latest\")\n",
    "\n",
    "# Predict\n",
    "sample = [[5.3, 3.1, 1.3, 0.2]]\n",
    "pred = model.predict(sample)[0]  # Numeric class label (e.g., 0)\n",
    "class_label = class_names[pred]  # Convert to class name\n",
    "\n",
    "print(\"Prediction:\", class_label)"
   ]
  },
  {
   "cell_type": "code",
   "execution_count": null,
   "id": "5d47b0a0",
   "metadata": {},
   "outputs": [],
   "source": []
  }
 ],
 "metadata": {
  "kernelspec": {
   "display_name": "mlflow-exp-track (3.12.10)",
   "language": "python",
   "name": "python3"
  },
  "language_info": {
   "codemirror_mode": {
    "name": "ipython",
    "version": 3
   },
   "file_extension": ".py",
   "mimetype": "text/x-python",
   "name": "python",
   "nbconvert_exporter": "python",
   "pygments_lexer": "ipython3",
   "version": "3.11.8"
  }
 },
 "nbformat": 4,
 "nbformat_minor": 5
}
