{
  "cells": [
    {
      "cell_type": "code",
      "execution_count": null,
      "metadata": {
        "id": "1GK8j7kgsS03"
      },
      "outputs": [],
      "source": [
        "# !pip install wandb==0.21.1 scikit-learn==1.6.1"
      ]
    },
    {
      "cell_type": "code",
      "execution_count": null,
      "metadata": {
        "id": "lNSCGHgEsnsk"
      },
      "outputs": [],
      "source": [
        "!wandb login"
      ]
    },
    {
      "cell_type": "markdown",
      "metadata": {
        "id": "OBZ5Y8iITnle"
      },
      "source": [
        "### DATA"
      ]
    },
    {
      "cell_type": "code",
      "execution_count": null,
      "metadata": {
        "id": "Hq6IG-OIx2wE"
      },
      "outputs": [],
      "source": [
        "import wandb\n",
        "import pandas as pd\n",
        "from sklearn.datasets import fetch_california_housing\n",
        "\n",
        "def upload_raw_dataset():\n",
        "    \"\"\"\n",
        "    Fetches the California Housing dataset, saves it as a CSV,\n",
        "    and logs it as a W&B Artifact.\n",
        "    \"\"\"\n",
        "    # 1. Initialize a W&B run\n",
        "    with wandb.init \\\n",
        "     (project=\"house-price-prediction\", job_type=\"upload-dataset\") as run:\n",
        "\n",
        "        # 2. Fetch data\n",
        "        housing = fetch_california_housing(as_frame=True)\n",
        "        df = housing.frame\n",
        "\n",
        "        # 3. Save data to a local file\n",
        "        filename = \"california_housing_raw.csv\"\n",
        "        df.to_csv(filename, index=False)\n",
        "\n",
        "        # 4. Create a W&B Artifact\n",
        "        # We use a descriptive name and the type 'dataset'.\n",
        "        raw_data_artifact = wandb.Artifact(\n",
        "            \"california-housing-raw\",\n",
        "            type=\"dataset\",\n",
        "            description=\"Raw California Housing dataset from scikit-learn.\",\n",
        "            metadata={\"source\": \"scikit-learn.fetch_california_housing\"}\n",
        "        )\n",
        "\n",
        "        # 5. Add the file to the artifact\n",
        "        raw_data_artifact.add_file(filename)\n",
        "\n",
        "        # 6. Log the artifact to W&B\n",
        "        # This uploads the file and creates the first version, 'v0'.\n",
        "        run.log_artifact(raw_data_artifact)\n",
        "        print(\"Successfully logged raw data artifact.\")\n",
        "\n",
        "upload_raw_dataset()"
      ]
    },
    {
      "cell_type": "markdown",
      "metadata": {
        "id": "W5edz8g3TrdX"
      },
      "source": [
        "### TRAIN AND TRACK"
      ]
    },
    {
      "cell_type": "code",
      "execution_count": null,
      "metadata": {
        "id": "uvoH4p-hzYly"
      },
      "outputs": [],
      "source": [
        "from sklearn.model_selection import train_test_split\n",
        "from sklearn.ensemble import RandomForestRegressor\n",
        "from sklearn.metrics import mean_squared_error, r2_score\n",
        "import wandb.sklearn\n",
        "import joblib\n",
        "\n",
        "def train_regressor():\n",
        "    \"\"\"\n",
        "    Trains a RandomForestRegressor, logging results and plots to W&B.\n",
        "    \"\"\"\n",
        "    # Default hyperparameters\n",
        "    def_config = {\n",
        "        \"n_estimators\": 100,\n",
        "        \"max_depth\": 10,\n",
        "        \"min_samples_leaf\": 2,\n",
        "        \"random_state\": 42\n",
        "    }\n",
        "\n",
        "    # 1. Initialize a W&B run\n",
        "    with wandb.init \\\n",
        "     (project=\"house-price-prediction\", job_type=\"training\", config=def_config,\n",
        "      tags=[\"random-forest\", \"regression\", \"housing\"]) as run:\n",
        "\n",
        "        config = wandb.config\n",
        "\n",
        "        # 2. Use the dataset artifact\n",
        "        # This will download the artifact and create a lineage link.\n",
        "        artifact = run.use_artifact('california-housing-raw:latest')\n",
        "        artifact_dir = artifact.download()\n",
        "        print(artifact_dir)\n",
        "        data_path = f\"{artifact_dir}/california_housing_raw.csv\"\n",
        "        df = pd.read_csv(data_path)\n",
        "        print(df.head())\n",
        "\n",
        "        # 3. Prepare data\n",
        "        X = df.drop('MedHouseVal', axis=1)\n",
        "        y = df['MedHouseVal']\n",
        "        X_train, X_test, y_train, y_test = train_test_split(\n",
        "                                            X, y, test_size=0.2,\n",
        "                                            random_state=config.random_state)\n",
        "\n",
        "        # 4. Train the model\n",
        "        model = RandomForestRegressor(\n",
        "            n_estimators=config.n_estimators,\n",
        "            max_depth=config.max_depth,\n",
        "            min_samples_leaf=config.min_samples_leaf,\n",
        "            random_state=config.random_state\n",
        "        )\n",
        "        model.fit(X_train, y_train)\n",
        "\n",
        "        # 5. Evaluate and log metrics\n",
        "        y_pred = model.predict(X_test)\n",
        "        mse = mean_squared_error(y_test, y_pred)\n",
        "        r2 = r2_score(y_test, y_pred)\n",
        "\n",
        "        wandb.log({\n",
        "            \"mse\": mse,\n",
        "            \"r2\": r2\n",
        "        })\n",
        "\n",
        "        print(f\"MSE: {mse:.4f}, R2: {r2:.4f}\")\n",
        "\n",
        "        # 6. Log scikit-learn plots\n",
        "        # This is a convenience function that generates and logs multiple plots.\n",
        "        plots = wandb.sklearn.plot_regressor(\n",
        "            model,\n",
        "            X_train,\n",
        "            X_test,\n",
        "            y_train,\n",
        "            y_test,\n",
        "            model_name=\"RandomForestRegressor\"\n",
        "        )\n",
        "\n",
        "        wandb.log({\"regressor_plots\": plots})\n",
        "\n",
        "        # 7. Save the model file\n",
        "        model_filename = \"rf_regressor.joblib\"\n",
        "        joblib.dump(model, model_filename)\n",
        "\n",
        "        # 8. Create a model artifact\n",
        "        model_artifact = wandb.Artifact(\n",
        "            \"house-price-rf-regressor\",\n",
        "            type=\"model\",\n",
        "            description=\"A trained RandomForestRegressor for housing data.\",\n",
        "            metadata=dict(run.config) # Link hyperparameters\n",
        "        )\n",
        "\n",
        "        # 9. Add the model file to the artifact\n",
        "        model_artifact.add_file(model_filename)\n",
        "\n",
        "        # 10. Log the model artifact\n",
        "        run.log_artifact(model_artifact)\n",
        "\n",
        "        print(\"Successfully logged model artifact.\")\n",
        "\n",
        "train_regressor()"
      ]
    },
    {
      "cell_type": "markdown",
      "metadata": {
        "id": "mQQbenKMTvXA"
      },
      "source": [
        "### PULL REGISTERED MODEL"
      ]
    },
    {
      "cell_type": "code",
      "execution_count": null,
      "metadata": {
        "id": "IthjfoKnjxXU"
      },
      "outputs": [],
      "source": [
        "import wandb\n",
        "import joblib\n",
        "\n",
        "run = wandb.init(project=\"house-price-prediction\", job_type=\"inference\")\n",
        "\n",
        "# Load artifact from model registry\n",
        "artifact = run.use_artifact(\"wandb-registry-registry-house-price/Registered-regressors:staging\")\n",
        "artifact_dir = artifact.download()\n",
        "\n",
        "# Load the model\n",
        "model = joblib.load(f\"{artifact_dir}/rf_regressor.joblib\")"
      ]
    },
    {
      "cell_type": "code",
      "execution_count": null,
      "metadata": {
        "id": "em9w52PbPpKF"
      },
      "outputs": [],
      "source": [
        "# TO Be COntinued"
      ]
    }
  ],
  "metadata": {
    "colab": {
      "provenance": []
    },
    "kernelspec": {
      "display_name": "Python 3",
      "name": "python3"
    },
    "language_info": {
      "name": "python"
    }
  },
  "nbformat": 4,
  "nbformat_minor": 0
}
